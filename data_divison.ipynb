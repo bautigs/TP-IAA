{
 "cells": [
  {
   "cell_type": "code",
   "execution_count": null,
   "id": "aef0af7f",
   "metadata": {},
   "outputs": [
    {
     "ename": "",
     "evalue": "",
     "output_type": "error",
     "traceback": [
      "\u001b[1;31mThe Kernel crashed while executing code in the current cell or a previous cell. \n",
      "\u001b[1;31mPlease review the code in the cell(s) to identify a possible cause of the failure. \n",
      "\u001b[1;31mClick <a href='https://aka.ms/vscodeJupyterKernelCrash'>here</a> for more info. \n",
      "\u001b[1;31mView Jupyter <a href='command:jupyter.viewOutput'>log</a> for further details."
     ]
    }
   ],
   "source": [
    "import pandas as pd\n",
    "whole_season_df = pd.read_csv(\"data/processed_football_stats.csv\")\n",
    "\n",
    "cutoff_date = \"2023-01-05\"\n",
    "\n",
    "\n",
    "first_round_df = whole_season_df[whole_season_df['date'] <= cutoff_date].copy()\n",
    "second_round_df = whole_season_df[whole_season_df['date'] > cutoff_date].copy()\n",
    "\n",
    "# Save to CSV\n",
    "first_round_df.to_csv(\"data/first_round.csv\", index=False)\n",
    "second_round_df.to_csv(\"data/second_round.csv\", index=False)"
   ]
  }
 ],
 "metadata": {
  "kernelspec": {
   "display_name": "Python 3",
   "language": "python",
   "name": "python3"
  },
  "language_info": {
   "codemirror_mode": {
    "name": "ipython",
    "version": 3
   },
   "file_extension": ".py",
   "mimetype": "text/x-python",
   "name": "python",
   "nbconvert_exporter": "python",
   "pygments_lexer": "ipython3",
   "version": "3.10.8"
  }
 },
 "nbformat": 4,
 "nbformat_minor": 5
}
