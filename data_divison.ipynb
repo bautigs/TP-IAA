{
 "cells": [
  {
   "cell_type": "code",
   "execution_count": 4,
   "id": "aef0af7f",
   "metadata": {},
   "outputs": [],
   "source": [
    "import pandas as pd\n",
    "whole_season_df = pd.read_csv(\"processed_football_stats.csv\")\n",
    "\n",
    "cutoff_date = \"2023-01-05\"\n",
    "\n",
    "\n",
    "first_round_df = whole_season_df[whole_season_df['date'] <= cutoff_date].copy()\n",
    "second_round_df = whole_season_df[whole_season_df['date'] > cutoff_date].copy()\n",
    "\n",
    "# Save to CSV\n",
    "first_round_df.to_csv(\"first_round.csv\", index=False)\n",
    "second_round_df.to_csv(\"second_round.csv\", index=False)"
   ]
  }
 ],
 "metadata": {
  "kernelspec": {
   "display_name": "Python 3",
   "language": "python",
   "name": "python3"
  },
  "language_info": {
   "codemirror_mode": {
    "name": "ipython",
    "version": 3
   },
   "file_extension": ".py",
   "mimetype": "text/x-python",
   "name": "python",
   "nbconvert_exporter": "python",
   "pygments_lexer": "ipython3",
   "version": "3.10.8"
  }
 },
 "nbformat": 4,
 "nbformat_minor": 5
}
